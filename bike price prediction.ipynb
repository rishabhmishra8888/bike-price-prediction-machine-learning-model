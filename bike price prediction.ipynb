{
 "cells": [
  {
   "cell_type": "markdown",
   "id": "34b863ee",
   "metadata": {},
   "source": [
    "## IMPORTING THE IMPORTANT LIBRARIES\n"
   ]
  },
  {
   "cell_type": "code",
   "execution_count": 1,
   "id": "c602b970",
   "metadata": {},
   "outputs": [],
   "source": [
    "import numpy as np\n",
    "import pandas as pd\n",
    "import seaborn as sns\n",
    "import matplotlib.pyplot as plt\n",
    "%matplotlib inline"
   ]
  },
  {
   "cell_type": "markdown",
   "id": "5c16dfb4",
   "metadata": {},
   "source": [
    "### Uploading our dataset and converting into a datafrme using pandas"
   ]
  },
  {
   "cell_type": "code",
   "execution_count": 2,
   "id": "bab407c7",
   "metadata": {},
   "outputs": [
    {
     "data": {
      "text/html": [
       "<div>\n",
       "<style scoped>\n",
       "    .dataframe tbody tr th:only-of-type {\n",
       "        vertical-align: middle;\n",
       "    }\n",
       "\n",
       "    .dataframe tbody tr th {\n",
       "        vertical-align: top;\n",
       "    }\n",
       "\n",
       "    .dataframe thead th {\n",
       "        text-align: right;\n",
       "    }\n",
       "</style>\n",
       "<table border=\"1\" class=\"dataframe\">\n",
       "  <thead>\n",
       "    <tr style=\"text-align: right;\">\n",
       "      <th></th>\n",
       "      <th>bike_name</th>\n",
       "      <th>price</th>\n",
       "      <th>city</th>\n",
       "      <th>kms_driven</th>\n",
       "      <th>owner</th>\n",
       "      <th>age</th>\n",
       "      <th>power</th>\n",
       "      <th>brand</th>\n",
       "    </tr>\n",
       "  </thead>\n",
       "  <tbody>\n",
       "    <tr>\n",
       "      <th>0</th>\n",
       "      <td>TVS Star City Plus Dual Tone 110cc</td>\n",
       "      <td>35000.0</td>\n",
       "      <td>Ahmedabad</td>\n",
       "      <td>17654.0</td>\n",
       "      <td>First Owner</td>\n",
       "      <td>3.0</td>\n",
       "      <td>110.0</td>\n",
       "      <td>TVS</td>\n",
       "    </tr>\n",
       "    <tr>\n",
       "      <th>1</th>\n",
       "      <td>Royal Enfield Classic 350cc</td>\n",
       "      <td>119900.0</td>\n",
       "      <td>Delhi</td>\n",
       "      <td>11000.0</td>\n",
       "      <td>First Owner</td>\n",
       "      <td>4.0</td>\n",
       "      <td>350.0</td>\n",
       "      <td>Royal Enfield</td>\n",
       "    </tr>\n",
       "    <tr>\n",
       "      <th>2</th>\n",
       "      <td>Triumph Daytona 675R</td>\n",
       "      <td>600000.0</td>\n",
       "      <td>Delhi</td>\n",
       "      <td>110.0</td>\n",
       "      <td>First Owner</td>\n",
       "      <td>8.0</td>\n",
       "      <td>675.0</td>\n",
       "      <td>Triumph</td>\n",
       "    </tr>\n",
       "    <tr>\n",
       "      <th>3</th>\n",
       "      <td>TVS Apache RTR 180cc</td>\n",
       "      <td>65000.0</td>\n",
       "      <td>Bangalore</td>\n",
       "      <td>16329.0</td>\n",
       "      <td>First Owner</td>\n",
       "      <td>4.0</td>\n",
       "      <td>180.0</td>\n",
       "      <td>TVS</td>\n",
       "    </tr>\n",
       "    <tr>\n",
       "      <th>4</th>\n",
       "      <td>Yamaha FZ S V 2.0 150cc-Ltd. Edition</td>\n",
       "      <td>80000.0</td>\n",
       "      <td>Bangalore</td>\n",
       "      <td>10000.0</td>\n",
       "      <td>First Owner</td>\n",
       "      <td>3.0</td>\n",
       "      <td>150.0</td>\n",
       "      <td>Yamaha</td>\n",
       "    </tr>\n",
       "  </tbody>\n",
       "</table>\n",
       "</div>"
      ],
      "text/plain": [
       "                              bike_name     price       city  kms_driven  \\\n",
       "0    TVS Star City Plus Dual Tone 110cc   35000.0  Ahmedabad     17654.0   \n",
       "1           Royal Enfield Classic 350cc  119900.0      Delhi     11000.0   \n",
       "2                  Triumph Daytona 675R  600000.0      Delhi       110.0   \n",
       "3                  TVS Apache RTR 180cc   65000.0  Bangalore     16329.0   \n",
       "4  Yamaha FZ S V 2.0 150cc-Ltd. Edition   80000.0  Bangalore     10000.0   \n",
       "\n",
       "         owner  age  power          brand  \n",
       "0  First Owner  3.0  110.0            TVS  \n",
       "1  First Owner  4.0  350.0  Royal Enfield  \n",
       "2  First Owner  8.0  675.0        Triumph  \n",
       "3  First Owner  4.0  180.0            TVS  \n",
       "4  First Owner  3.0  150.0         Yamaha  "
      ]
     },
     "execution_count": 2,
     "metadata": {},
     "output_type": "execute_result"
    }
   ],
   "source": [
    "df=pd.read_csv(\"C://Users/mishr/Desktop/Used_Bikes.csv/Used_Bikes.csv\")\n",
    "df.head()"
   ]
  },
  {
   "cell_type": "code",
   "execution_count": 3,
   "id": "28274efc",
   "metadata": {},
   "outputs": [
    {
     "name": "stdout",
     "output_type": "stream",
     "text": [
      "<class 'pandas.core.frame.DataFrame'>\n",
      "RangeIndex: 32648 entries, 0 to 32647\n",
      "Data columns (total 8 columns):\n",
      " #   Column      Non-Null Count  Dtype  \n",
      "---  ------      --------------  -----  \n",
      " 0   bike_name   32648 non-null  object \n",
      " 1   price       32648 non-null  float64\n",
      " 2   city        32648 non-null  object \n",
      " 3   kms_driven  32648 non-null  float64\n",
      " 4   owner       32648 non-null  object \n",
      " 5   age         32648 non-null  float64\n",
      " 6   power       32648 non-null  float64\n",
      " 7   brand       32648 non-null  object \n",
      "dtypes: float64(4), object(4)\n",
      "memory usage: 2.0+ MB\n"
     ]
    }
   ],
   "source": [
    "df.info()"
   ]
  },
  {
   "cell_type": "markdown",
   "id": "39496283",
   "metadata": {},
   "source": [
    "### describing the dataset"
   ]
  },
  {
   "cell_type": "code",
   "execution_count": 4,
   "id": "8000c57d",
   "metadata": {},
   "outputs": [
    {
     "data": {
      "text/html": [
       "<div>\n",
       "<style scoped>\n",
       "    .dataframe tbody tr th:only-of-type {\n",
       "        vertical-align: middle;\n",
       "    }\n",
       "\n",
       "    .dataframe tbody tr th {\n",
       "        vertical-align: top;\n",
       "    }\n",
       "\n",
       "    .dataframe thead th {\n",
       "        text-align: right;\n",
       "    }\n",
       "</style>\n",
       "<table border=\"1\" class=\"dataframe\">\n",
       "  <thead>\n",
       "    <tr style=\"text-align: right;\">\n",
       "      <th></th>\n",
       "      <th>price</th>\n",
       "      <th>kms_driven</th>\n",
       "      <th>age</th>\n",
       "      <th>power</th>\n",
       "    </tr>\n",
       "  </thead>\n",
       "  <tbody>\n",
       "    <tr>\n",
       "      <th>count</th>\n",
       "      <td>3.264800e+04</td>\n",
       "      <td>32648.000000</td>\n",
       "      <td>32648.000000</td>\n",
       "      <td>32648.000000</td>\n",
       "    </tr>\n",
       "    <tr>\n",
       "      <th>mean</th>\n",
       "      <td>6.829542e+04</td>\n",
       "      <td>26344.625184</td>\n",
       "      <td>8.048211</td>\n",
       "      <td>213.511302</td>\n",
       "    </tr>\n",
       "    <tr>\n",
       "      <th>std</th>\n",
       "      <td>9.071860e+04</td>\n",
       "      <td>22208.527695</td>\n",
       "      <td>4.031700</td>\n",
       "      <td>134.428868</td>\n",
       "    </tr>\n",
       "    <tr>\n",
       "      <th>min</th>\n",
       "      <td>4.400000e+03</td>\n",
       "      <td>1.000000</td>\n",
       "      <td>1.000000</td>\n",
       "      <td>100.000000</td>\n",
       "    </tr>\n",
       "    <tr>\n",
       "      <th>25%</th>\n",
       "      <td>2.500000e+04</td>\n",
       "      <td>12000.000000</td>\n",
       "      <td>5.000000</td>\n",
       "      <td>150.000000</td>\n",
       "    </tr>\n",
       "    <tr>\n",
       "      <th>50%</th>\n",
       "      <td>4.300000e+04</td>\n",
       "      <td>20373.000000</td>\n",
       "      <td>7.000000</td>\n",
       "      <td>150.000000</td>\n",
       "    </tr>\n",
       "    <tr>\n",
       "      <th>75%</th>\n",
       "      <td>8.000000e+04</td>\n",
       "      <td>35000.000000</td>\n",
       "      <td>10.000000</td>\n",
       "      <td>220.000000</td>\n",
       "    </tr>\n",
       "    <tr>\n",
       "      <th>max</th>\n",
       "      <td>1.900000e+06</td>\n",
       "      <td>750000.000000</td>\n",
       "      <td>63.000000</td>\n",
       "      <td>1800.000000</td>\n",
       "    </tr>\n",
       "  </tbody>\n",
       "</table>\n",
       "</div>"
      ],
      "text/plain": [
       "              price     kms_driven           age         power\n",
       "count  3.264800e+04   32648.000000  32648.000000  32648.000000\n",
       "mean   6.829542e+04   26344.625184      8.048211    213.511302\n",
       "std    9.071860e+04   22208.527695      4.031700    134.428868\n",
       "min    4.400000e+03       1.000000      1.000000    100.000000\n",
       "25%    2.500000e+04   12000.000000      5.000000    150.000000\n",
       "50%    4.300000e+04   20373.000000      7.000000    150.000000\n",
       "75%    8.000000e+04   35000.000000     10.000000    220.000000\n",
       "max    1.900000e+06  750000.000000     63.000000   1800.000000"
      ]
     },
     "execution_count": 4,
     "metadata": {},
     "output_type": "execute_result"
    }
   ],
   "source": [
    "df.describe()"
   ]
  },
  {
   "cell_type": "markdown",
   "id": "f32ed619",
   "metadata": {},
   "source": [
    "### checking for null values"
   ]
  },
  {
   "cell_type": "code",
   "execution_count": 5,
   "id": "b99ef9dd",
   "metadata": {},
   "outputs": [
    {
     "data": {
      "text/html": [
       "<div>\n",
       "<style scoped>\n",
       "    .dataframe tbody tr th:only-of-type {\n",
       "        vertical-align: middle;\n",
       "    }\n",
       "\n",
       "    .dataframe tbody tr th {\n",
       "        vertical-align: top;\n",
       "    }\n",
       "\n",
       "    .dataframe thead th {\n",
       "        text-align: right;\n",
       "    }\n",
       "</style>\n",
       "<table border=\"1\" class=\"dataframe\">\n",
       "  <thead>\n",
       "    <tr style=\"text-align: right;\">\n",
       "      <th></th>\n",
       "      <th>bike_name</th>\n",
       "      <th>price</th>\n",
       "      <th>city</th>\n",
       "      <th>kms_driven</th>\n",
       "      <th>owner</th>\n",
       "      <th>age</th>\n",
       "      <th>power</th>\n",
       "      <th>brand</th>\n",
       "    </tr>\n",
       "  </thead>\n",
       "  <tbody>\n",
       "    <tr>\n",
       "      <th>0</th>\n",
       "      <td>False</td>\n",
       "      <td>False</td>\n",
       "      <td>False</td>\n",
       "      <td>False</td>\n",
       "      <td>False</td>\n",
       "      <td>False</td>\n",
       "      <td>False</td>\n",
       "      <td>False</td>\n",
       "    </tr>\n",
       "    <tr>\n",
       "      <th>1</th>\n",
       "      <td>False</td>\n",
       "      <td>False</td>\n",
       "      <td>False</td>\n",
       "      <td>False</td>\n",
       "      <td>False</td>\n",
       "      <td>False</td>\n",
       "      <td>False</td>\n",
       "      <td>False</td>\n",
       "    </tr>\n",
       "    <tr>\n",
       "      <th>2</th>\n",
       "      <td>False</td>\n",
       "      <td>False</td>\n",
       "      <td>False</td>\n",
       "      <td>False</td>\n",
       "      <td>False</td>\n",
       "      <td>False</td>\n",
       "      <td>False</td>\n",
       "      <td>False</td>\n",
       "    </tr>\n",
       "    <tr>\n",
       "      <th>3</th>\n",
       "      <td>False</td>\n",
       "      <td>False</td>\n",
       "      <td>False</td>\n",
       "      <td>False</td>\n",
       "      <td>False</td>\n",
       "      <td>False</td>\n",
       "      <td>False</td>\n",
       "      <td>False</td>\n",
       "    </tr>\n",
       "    <tr>\n",
       "      <th>4</th>\n",
       "      <td>False</td>\n",
       "      <td>False</td>\n",
       "      <td>False</td>\n",
       "      <td>False</td>\n",
       "      <td>False</td>\n",
       "      <td>False</td>\n",
       "      <td>False</td>\n",
       "      <td>False</td>\n",
       "    </tr>\n",
       "    <tr>\n",
       "      <th>...</th>\n",
       "      <td>...</td>\n",
       "      <td>...</td>\n",
       "      <td>...</td>\n",
       "      <td>...</td>\n",
       "      <td>...</td>\n",
       "      <td>...</td>\n",
       "      <td>...</td>\n",
       "      <td>...</td>\n",
       "    </tr>\n",
       "    <tr>\n",
       "      <th>32643</th>\n",
       "      <td>False</td>\n",
       "      <td>False</td>\n",
       "      <td>False</td>\n",
       "      <td>False</td>\n",
       "      <td>False</td>\n",
       "      <td>False</td>\n",
       "      <td>False</td>\n",
       "      <td>False</td>\n",
       "    </tr>\n",
       "    <tr>\n",
       "      <th>32644</th>\n",
       "      <td>False</td>\n",
       "      <td>False</td>\n",
       "      <td>False</td>\n",
       "      <td>False</td>\n",
       "      <td>False</td>\n",
       "      <td>False</td>\n",
       "      <td>False</td>\n",
       "      <td>False</td>\n",
       "    </tr>\n",
       "    <tr>\n",
       "      <th>32645</th>\n",
       "      <td>False</td>\n",
       "      <td>False</td>\n",
       "      <td>False</td>\n",
       "      <td>False</td>\n",
       "      <td>False</td>\n",
       "      <td>False</td>\n",
       "      <td>False</td>\n",
       "      <td>False</td>\n",
       "    </tr>\n",
       "    <tr>\n",
       "      <th>32646</th>\n",
       "      <td>False</td>\n",
       "      <td>False</td>\n",
       "      <td>False</td>\n",
       "      <td>False</td>\n",
       "      <td>False</td>\n",
       "      <td>False</td>\n",
       "      <td>False</td>\n",
       "      <td>False</td>\n",
       "    </tr>\n",
       "    <tr>\n",
       "      <th>32647</th>\n",
       "      <td>False</td>\n",
       "      <td>False</td>\n",
       "      <td>False</td>\n",
       "      <td>False</td>\n",
       "      <td>False</td>\n",
       "      <td>False</td>\n",
       "      <td>False</td>\n",
       "      <td>False</td>\n",
       "    </tr>\n",
       "  </tbody>\n",
       "</table>\n",
       "<p>32648 rows × 8 columns</p>\n",
       "</div>"
      ],
      "text/plain": [
       "       bike_name  price   city  kms_driven  owner    age  power  brand\n",
       "0          False  False  False       False  False  False  False  False\n",
       "1          False  False  False       False  False  False  False  False\n",
       "2          False  False  False       False  False  False  False  False\n",
       "3          False  False  False       False  False  False  False  False\n",
       "4          False  False  False       False  False  False  False  False\n",
       "...          ...    ...    ...         ...    ...    ...    ...    ...\n",
       "32643      False  False  False       False  False  False  False  False\n",
       "32644      False  False  False       False  False  False  False  False\n",
       "32645      False  False  False       False  False  False  False  False\n",
       "32646      False  False  False       False  False  False  False  False\n",
       "32647      False  False  False       False  False  False  False  False\n",
       "\n",
       "[32648 rows x 8 columns]"
      ]
     },
     "execution_count": 5,
     "metadata": {},
     "output_type": "execute_result"
    }
   ],
   "source": [
    "df.isna()"
   ]
  },
  {
   "cell_type": "code",
   "execution_count": 6,
   "id": "51a7288a",
   "metadata": {},
   "outputs": [
    {
     "data": {
      "text/plain": [
       "bike_name     0\n",
       "price         0\n",
       "city          0\n",
       "kms_driven    0\n",
       "owner         0\n",
       "age           0\n",
       "power         0\n",
       "brand         0\n",
       "dtype: int64"
      ]
     },
     "execution_count": 6,
     "metadata": {},
     "output_type": "execute_result"
    }
   ],
   "source": [
    "df.isnull().sum()"
   ]
  },
  {
   "cell_type": "markdown",
   "id": "869315cd",
   "metadata": {},
   "source": [
    "### checking object type values in dataset"
   ]
  },
  {
   "cell_type": "code",
   "execution_count": 7,
   "id": "51322a8e",
   "metadata": {},
   "outputs": [
    {
     "data": {
      "text/plain": [
       "['bike_name', 'city', 'owner', 'brand']"
      ]
     },
     "execution_count": 7,
     "metadata": {},
     "output_type": "execute_result"
    }
   ],
   "source": [
    "categoric_cols = [categoric for categoric in df.columns if df[categoric].dtype in ['object']]\n",
    "categoric_cols"
   ]
  },
  {
   "cell_type": "markdown",
   "id": "f6f71dc3",
   "metadata": {},
   "source": [
    "### checking for unique values in the categorical columns"
   ]
  },
  {
   "cell_type": "code",
   "execution_count": 8,
   "id": "09a64da9",
   "metadata": {},
   "outputs": [
    {
     "data": {
      "text/plain": [
       "array(['First Owner', 'Second Owner', 'Third Owner',\n",
       "       'Fourth Owner Or More'], dtype=object)"
      ]
     },
     "execution_count": 8,
     "metadata": {},
     "output_type": "execute_result"
    }
   ],
   "source": [
    "df.owner.unique()"
   ]
  },
  {
   "cell_type": "code",
   "execution_count": 9,
   "id": "afc22dc5",
   "metadata": {
    "scrolled": true
   },
   "outputs": [
    {
     "data": {
      "text/plain": [
       "<AxesSubplot:xlabel='owner', ylabel='count'>"
      ]
     },
     "execution_count": 9,
     "metadata": {},
     "output_type": "execute_result"
    },
    {
     "data": {
      "image/png": "[encoded data removed]",
      "text/plain": [
       "<Figure size 432x288 with 1 Axes>"
      ]
     },
     "metadata": {
      "needs_background": "light"
     },
     "output_type": "display_data"
    }
   ],
   "source": [
    "sns.countplot(x=df.owner)"
   ]
  },
  {
   "cell_type": "code",
   "execution_count": 10,
   "id": "3d265e49",
   "metadata": {},
   "outputs": [
    {
     "data": {
      "text/plain": [
       "array(['Ahmedabad', 'Delhi', 'Bangalore', 'Mumbai', 'Kalyan', 'Faridabad',\n",
       "       'Mettur', 'Hyderabad', 'Kaithal', 'Gurgaon', 'Pune', 'Noida',\n",
       "       'Nashik', 'Kochi', 'Allahabad', 'Samastipur', 'Nadiad', 'Lucknow',\n",
       "       'Jaipur', 'Karnal', 'Gorakhpur', 'Vidisha', 'Hosur', 'Bagalkot',\n",
       "       'Baripara', 'Agra', 'Dharwad', 'Vadodara', 'Jalandhar', 'Surat',\n",
       "       'Chennai', 'Navi Mumbai', 'Gandhidham', 'Visakhapatnam',\n",
       "       'Thrissur', 'Kolkata', 'Ernakulam', 'Barasat', 'Ghaziabad',\n",
       "       'Bhubaneshwar', 'Amritsar', 'Bhopal', 'Hamirpur(hp)', 'Kottayam',\n",
       "       'Arrah', 'Patiala', 'Ranga Reddy', 'Mandi', 'Ludhiana', 'Mandya',\n",
       "       'Siliguri', 'Aurangabad', 'Kanpur', 'Bhilwara', 'Meerut', 'Rewari',\n",
       "       'Ahmednagar', 'Wardha', 'Chandigarh', 'Ranchi', 'Panvel', 'Thane',\n",
       "       'Jabalpur', 'Kota', 'Rohtak', 'Rajkot', 'Varanasi', '24 Pargana',\n",
       "       'Banka', 'Nagpur', 'Banki', 'Pali', 'Chhatarpur', 'Katihar',\n",
       "       'Mohali', 'Rudrapur', 'Coimbatore', 'Jajpur', 'Mysore', 'Adoni',\n",
       "       'Bikaner', 'Malout', 'Jammu', 'Rajnandgaon', 'Unnao', 'Godhara',\n",
       "       'Kolhapur', 'Satara', 'Siwan', 'Dadra & Nagar Haveli', 'Bhiwani',\n",
       "       'Koppal', 'Nizamabad', 'Madurai', 'Ujjain', 'Palakkad',\n",
       "       'Tiruvallur', 'Panchkula', 'Nanjangud', 'Jhansi', 'Sonipat',\n",
       "       'Puttur', 'Hoshiarpur', 'Gohana', 'Gautam Buddha Nagar',\n",
       "       'Durgapur', 'Palwal', 'Chatrapur', 'Howrah', 'Jind', 'Hubli',\n",
       "       'Panipat', 'Bharatpur', 'Vellore', 'Ambala', 'Guwahati', 'Gangtok',\n",
       "       'Rajahmundry', 'Tiruchirappalli', 'Belgaum', 'Balaghat', 'Jatani',\n",
       "       'Asansol', 'Bilaspur', 'Thanjavur', 'Raigarh(mh)', 'Mandi Dabwali',\n",
       "       'Basti', 'Bolpur', 'Aligarh', 'Balrampur', 'Ratnagiri', 'Muktsar',\n",
       "       'Baran', 'Haldwani', 'Thiruvananthapuram', 'Indore', 'Buxar',\n",
       "       'Chaksu', 'Haridwar', 'Bharuch', 'Muvattupuzha', 'Patna',\n",
       "       'Simdega', 'Singhbhum', 'Bardhaman', 'Pathankot', 'Kharar',\n",
       "       'Silchar', 'Jhalawar', 'Roorkee', 'Saharanpur', 'Solapur',\n",
       "       'Gwalior', 'Alibag', 'Katni', 'Khedbrahma', 'Valsad', 'Satna',\n",
       "       'Hooghly', 'Gurdaspur', 'Dadri', 'Amravati', 'Durg', 'Mehsana',\n",
       "       'Lansdowne', 'Cuttack', 'Jaisalmer', 'Hanumangarh', 'Dungarpur',\n",
       "       'Sri Ganganagar', 'Margao', 'Chinsurah', 'Bhatinda', 'Sibsagar',\n",
       "       'Khalilabad', 'Dehradun', 'Anand', 'Sambalpur', 'Ankleshwar',\n",
       "       'Purnia', 'Tiruverkadu', 'Bahadurgarh', 'Udaipur', 'Jodhpur',\n",
       "       'Sheikhpura', 'Pondicherry', 'Sirsa', 'Godavari', 'Ajmer',\n",
       "       'Moradabad', 'Raipur', 'Navsari', 'Herbertpur', 'Jamshedpur',\n",
       "       'Ramanagar', 'Berhampur', 'Vijayawada', 'Murad Nagar',\n",
       "       'Chandrapur', 'Jamtara', 'Uppidamangalam', 'Nalagarh', 'Una',\n",
       "       'Chakan', 'Idukki', 'Shivpuri', 'Arkalgud', 'Bidar', 'Rupnagar',\n",
       "       'Deoghar', 'Kanchipuram', 'Vapi', 'Medak', 'Kasargode', 'Dhanbad',\n",
       "       'Dakshina Kannada', 'Ganaur', 'Jamalpur', 'Amraoti', 'Mangalore',\n",
       "       'Deolali', 'Gandhinagar', 'Chitradurga', 'Chinchwad', 'Jhajjar',\n",
       "       'Jagdalpur', 'Ranoli', 'Raiwala', 'Guntur', 'Badarpur', 'Adalaj',\n",
       "       'Alipore', 'Bhawani Mandi', 'Mughalsarai', 'Kollam', 'Farukhabad',\n",
       "       'Thiruvallur', 'Udaipurwati', 'Rasra', 'Latur', 'Krishna',\n",
       "       'Gangaikondan', 'Warangal', 'Uluberia', 'Poonamallee', 'Nagaon',\n",
       "       'Hissar', 'Kanyakumari', 'Morbi', 'Bankura', 'Virar', 'Tikamgarh',\n",
       "       'Sultanpur', 'Tirunelveli', 'Bihar Shariff', 'Goa-panaji',\n",
       "       'Ganganagar', 'Kolar', 'Bahadurpur', 'Batala', 'Budhlada',\n",
       "       'Muzaffarnagar', 'Adyar', 'Calicut', 'Raigarh', 'Sonepat',\n",
       "       'Chikkaballapur', 'Kasba', 'Bulandshahr', 'Burdwan', 'Anjar',\n",
       "       'Marandahalli', 'Badaun', 'Namakkal', 'Puri', 'Alwar',\n",
       "       'Surendranagar', 'Khandela', 'Kullu', 'Mohammadabad', 'Sangareddy',\n",
       "       'Ghazipur', 'Shimla', 'Azamgarh', 'Chenani', 'Kanpur Nagar',\n",
       "       'Trivandrum', 'Secunderabad', 'Kurukshetra', 'Dhariawad',\n",
       "       'Bargarh', 'Gadarpur', 'Chikamaglur', 'Karim Nagar', 'Kotdwar',\n",
       "       'Jalaun', 'Parola', 'Bareilly', 'Salem', 'Indi', 'Muzaffarpur',\n",
       "       'Nayagarh', 'Jalgaon', 'Ambikapur', 'Udupi', 'Junagadh',\n",
       "       'Dibrugarh', 'Faridkot', 'Naraingarh', 'Karwar',\n",
       "       'Sant Kabir Nagar', 'Viramgam', 'Manali', 'Gadwal', 'Honavar',\n",
       "       'Mathura', 'Khandwa', 'Solan', 'Sitapur', 'Betul', 'Anantapur',\n",
       "       'Sholapur', 'Pinjore', 'Qadian', 'Sangrur', 'Jorhat', 'Palanpur',\n",
       "       'Narnaul', 'Palamu', 'Falakata', 'Ferozepur', 'Porbandar',\n",
       "       'Dwarka', 'Rangpo', 'Cannanore (kannur)', 'Churu', 'Baghpat',\n",
       "       'Jhumri Tilaiya', 'Naihati', 'Virudhunagar', 'Dharmavaram',\n",
       "       'Darbhanga', 'Nawanshahr', 'Sangli', 'Suri', 'Yamuna Nagar',\n",
       "       'Vasai', 'Aluva', 'Sirsi', 'Bijapur', 'Krishnagar', 'Bhiwadi',\n",
       "       'Bellary', 'Erode', 'Aquem', 'Nellore', 'Udhampur', 'Dhamtari',\n",
       "       'Vandalur', 'Motihari', 'Dharwar', 'Shimoga', 'Jhunjhunu',\n",
       "       'Bijnor', 'Yemmiganur', 'Bokaro', 'Kurnool', 'Srinagar', 'Ranip',\n",
       "       'Davanagere', 'Rajouri', 'Begusarai', 'Goregaon', 'Bally',\n",
       "       'Kachchh', 'Nagaur', 'Anekal', 'Mansa', 'Nanded', 'Dharamasala',\n",
       "       'Chhindwara', 'Jamnagar', 'Zirakpur', 'Abohar', 'Barabanki',\n",
       "       'Nabha', 'Kadapa', 'Perumbavoor', 'Sundargarh', 'Nazira',\n",
       "       'Pratapgarh', 'Dharmapuri', 'Thangadh', 'Lonavala', 'Vizianagaram',\n",
       "       'Kathua', 'Deesa', 'Tiruppur', 'Gadchiroli', 'Gangaghat', 'Bhuj',\n",
       "       'Vastral', 'Phagwara', 'Kheda', 'Swaimadhopur', 'Kharagpur',\n",
       "       'Jobner', 'Gondia', 'Bundi', 'Hamirpur', 'Dongargaon',\n",
       "       'Mubarakpur', 'Tumkur', 'Sanand', 'Kartarpur', 'Bhavnagar',\n",
       "       'Farrukhabad', 'Kadi', 'Seppa', 'Challakere', 'Dhubri', 'Deoria',\n",
       "       'Akot', 'Alappuzha', 'Bhiwandi', 'Shillong', 'Osmanabad', 'Kendua',\n",
       "       'Uran', 'Jaunpur', 'Hisar', 'Bodhan', 'Bhubaneswar', 'Raiganj',\n",
       "       'Bhilai Nagar', 'Baloda', 'Anantnag', 'Berhampore', 'Silvasa',\n",
       "       'Hospet', 'Palai', 'Sidhi'], dtype=object)"
      ]
     },
     "execution_count": 10,
     "metadata": {},
     "output_type": "execute_result"
    }
   ],
   "source": [
    "df.city.unique()"
   ]
  },
  {
   "cell_type": "code",
   "execution_count": 11,
   "id": "da76d638",
   "metadata": {},
   "outputs": [
    {
     "data": {
      "text/plain": [
       "Delhi            7318\n",
       "Bangalore        2723\n",
       "Mumbai           2591\n",
       "Hyderabad        2160\n",
       "Pune             1724\n",
       "                 ... \n",
       "Surendranagar       1\n",
       "Khandela            1\n",
       "Mohammadabad        1\n",
       "Shimla              1\n",
       "Sidhi               1\n",
       "Name: city, Length: 443, dtype: int64"
      ]
     },
     "execution_count": 11,
     "metadata": {},
     "output_type": "execute_result"
    }
   ],
   "source": [
    "##checking total unique values in city columns\n",
    "df['city'].value_counts()\n"
   ]
  },
  {
   "cell_type": "code",
   "execution_count": 12,
   "id": "56c060c4",
   "metadata": {
    "scrolled": false
   },
   "outputs": [
    {
     "data": {
      "text/plain": [
       "array(['TVS Star City Plus Dual Tone 110cc',\n",
       "       'Royal Enfield Classic 350cc', 'Triumph Daytona 675R',\n",
       "       'TVS Apache RTR 180cc', 'Yamaha FZ S V 2.0 150cc-Ltd. Edition',\n",
       "       'Yamaha FZs 150cc', 'Honda CB Hornet 160R  ABS DLX',\n",
       "       'Hero Splendor Plus Self Alloy 100cc',\n",
       "       'Royal Enfield Thunderbird X 350cc',\n",
       "       'Royal Enfield Classic Desert Storm 500cc',\n",
       "       'Yamaha YZF-R15 2.0 150cc', 'Yamaha FZ25 250cc',\n",
       "       'Bajaj Pulsar NS200', 'Bajaj Discover 100M', 'Bajaj Discover 125M',\n",
       "       'Bajaj Pulsar NS200 ABS', 'Bajaj Pulsar RS200 ABS',\n",
       "       'Suzuki Gixxer SF 150cc', 'Benelli 302R 300CC',\n",
       "       'Hero Splendor iSmart Plus IBS 110cc',\n",
       "       'Royal Enfield Classic Chrome 500cc', 'Yamaha FZ V 2.0 150cc',\n",
       "       'Hero Super Splendor 125cc', 'Honda CBF Stunner 125cc',\n",
       "       'Bajaj Pulsar 150cc', 'Honda X-Blade 160CC ABS',\n",
       "       'Bajaj Avenger 220cc', 'KTM RC 390cc', 'Honda CB Unicorn 150cc',\n",
       "       'KTM Duke 200cc', 'Honda CBR 150R 150cc',\n",
       "       'Royal Enfield Thunderbird X 500cc', 'KTM RC 200cc ABS',\n",
       "       'Royal Enfield Thunderbird 350cc',\n",
       "       'Royal Enfield Bullet Electra 350cc',\n",
       "       'Bajaj Avenger Street 220 ABS', 'Mahindra Centuro NXT 110cc',\n",
       "       'Hero Hunk 150cc', 'Suzuki Gixxer SF Fi 150cc SP ABS',\n",
       "       'Yamaha FZ 150cc', 'Royal Enfield\\u200e Bullet 350cc',\n",
       "       'TVS Apache RTR 160cc', 'Honda CB Shine 125cc',\n",
       "       'Benelli TNT 600i ABS', 'Honda Dream Yuga 110cc',\n",
       "       'Yamaha SZ 150cc', 'Suzuki Gixxer 150cc',\n",
       "       'Bajaj Avenger Cruise 220', 'Kawasaki Z900', 'Bajaj Pulsar 220cc',\n",
       "       'Hero CD Deluxe 100cc', 'Kawasaki Ninja 650cc',\n",
       "       'Bajaj Platina 125cc', 'Hero Karizma ZMR 223cc',\n",
       "       'Bajaj Pulsar 180cc', 'Yamaha FZ25 ABS 250cc',\n",
       "       'Bajaj CT 100 100cc', 'Royal Enfield Interceptor 650cc',\n",
       "       'KTM Duke 250cc', 'Royal Enfield Himalayan 410cc',\n",
       "       'Bajaj Pulsar 135LS', 'Bajaj Pulsar 220F', 'Yamaha FZ16 150cc',\n",
       "       'Ducati Scrambler 1100 Special', 'Triumph Street Triple 765',\n",
       "       'Bajaj V15 150cc', 'Suzuki Gixxer Fi 150cc ABS',\n",
       "       'Hero Splendor plus 100cc', 'KTM Duke 390cc', 'Honda CBR 250R',\n",
       "       'Bajaj Pulsar RS200', 'Benelli TNT 600i',\n",
       "       'Suzuki Gixxer 150cc SP Rear Disc', 'Yamaha FZ S V 2.0 150cc',\n",
       "       'Royal Enfield Classic 500cc', 'Hyosung GT650R',\n",
       "       'Yamaha YZF-R15 S 150cc', 'TVS Apache RTR 160 4V Disc',\n",
       "       'Benelli TNT 300', 'Honda CB ShineSP 125cc',\n",
       "       'Hero Passion Pro 100cc', 'Hero Splendor Plus 100cc',\n",
       "       'Yamaha YZF R6 600cc', 'Ducati 1299 Superleggera',\n",
       "       'Royal Enfield Electra 350cc', 'TVS Phoenix Disc 125cc',\n",
       "       'Harley-Davidson Street 750',\n",
       "       'Royal Enfield Himalayan 410cc Fi ABS', 'Bajaj Discover 150cc',\n",
       "       'Bajaj Avenger Street 220', 'Royal Enfield Standard 350cc',\n",
       "       'Honda CB Shine 125cc Disc', 'Honda CB Unicorn ABS 150cc',\n",
       "       'Yamaha YZF-R15 V3 150cc', 'Bajaj Pulsar NS 200',\n",
       "       'Bajaj Dominar 400', 'Honda X-Blade 160cc',\n",
       "       'Suzuki Hayabusa 1300cc', 'Ducati Monster 821 Dark',\n",
       "       'Yamaha FZ S V 2.0 150cc Rear Disc',\n",
       "       'Suzuki Gixxer SF 150cc Special MOTOGP Edition Rear Disc',\n",
       "       'KTM RC 200cc', 'Bajaj Discover 125ST',\n",
       "       'Hero Splendor Plus Kick Alloy 100cc', 'Hero Karizma 223cc',\n",
       "       'Hero Splendor 100cc', 'Ducati 1198 SP 1198cc',\n",
       "       'Royal Enfield Bullet 500cc', 'Yamaha Fazer 150cc',\n",
       "       'Yamaha Gladiator 125cc', 'Hero Karizma R 223cc',\n",
       "       'Harley-Davidson Iron 883', 'TVS Apache RTR 200 4V Fi',\n",
       "       'TVS Apache RTR 160 4V DISC ABS BS6', 'Bajaj Dominar 400 ABS',\n",
       "       'Royal Enfield Classic Gunmetal Grey 350cc',\n",
       "       'Hero HF Deluxe i3s iBS 100cc', 'Suzuki Gixxer SF Fi 150cc ABS',\n",
       "       'Hero Splendor iSmart 110cc', 'Bajaj Platina 100cc',\n",
       "       'TVS Apache RTR 200 4V FI', 'Royal Enfield Bullet Twinspark 350cc',\n",
       "       'TVS Star City 110cc', 'Bajaj Platina  Alloy ES-100cc',\n",
       "       'Ducati Panigale 959',\n",
       "       'Royal Enfield Classic 350cc-Redditch Edition', 'TVS Sport 100cc',\n",
       "       'Bajaj Pulsar AS200',\n",
       "       'Royal Enfield Classic Desert Storm 500cc Dual Disc',\n",
       "       'Honda Livo 110cc', 'Suzuki Gixxer SF 150cc SP Rear Disc',\n",
       "       'Yamaha SZ-RR 150cc', 'Royal Enfield Thunderbird 500cc',\n",
       "       'Royal Enfield Bullet Electra Twinspark 350cc',\n",
       "       'Bajaj Discover 150F Disc',\n",
       "       'Yamaha Saluto 125cc Disc Special Edition',\n",
       "       'Triumph Street Triple ABS 675cc', 'Honda CBR 250R ABS',\n",
       "       'Hyosung Aquila GV250', 'Jawa Forty Two 295CC', 'Bajaj V12 125cc',\n",
       "       'Bajaj V12 125cc Disc', 'Yamaha Fazer 25 250cc',\n",
       "       'Hero Xpulse 200T', 'Honda CB Hornet 160R CBS',\n",
       "       'Suzuki Gixxer 150cc SP ABS', 'Hero Passion Xpro 110cc',\n",
       "       'Yamaha YZF-R3 320cc ABS', 'Royal Enfield Bullet 350 cc',\n",
       "       'Hero HF Deluxe 100cc', 'Honda CB Twister 110cc',\n",
       "       'Bajaj Pulsar 125cc Disc CBS', 'Honda CB Shine 125cc Drum BS6',\n",
       "       'Honda CB Hornet 160R STD', 'Honda Dream Neo 110cc', 'BMW G 310 R',\n",
       "       'Bajaj Pulsar AS150', 'Kawasaki Ninja 250cc', 'Benelli TNT 899',\n",
       "       'Indian Chief Classic 1800cc', 'Hero Achiever 150cc',\n",
       "       'TVS Apache 150cc', 'Kawasaki ER-6n 650cc',\n",
       "       'Hero HF Deluxe Self 100cc', 'Bajaj Pulsar NS160',\n",
       "       'Royal Enfield Classic Gunmetal Grey 350cc ABS',\n",
       "       'Suzuki Intruder 150cc', 'TVS Apache RTR 200 4V ABS Race Edition',\n",
       "       'Bajaj CT 100 B', 'Hero Passion Pro 110cc Drum',\n",
       "       'Yamaha YZF-R15 150cc', 'TVS Apache RTR 160 4V DISC ABS',\n",
       "       'Mahindra Mojo 300cc', 'TVS Apache RTR 200 4V Carburetor',\n",
       "       'Hero Ignitor Disc 125cc', 'Bajaj Avenger Street 150',\n",
       "       'Royal Enfield Continental GT 535cc', 'Hero Glamour Disc 125cc',\n",
       "       'Suzuki Gixxer SF Fi 150cc', 'Hero HF Dawn 100cc',\n",
       "       'Suzuki Slingshot Plus 125cc', 'Mahindra Centuro Rockstar 110cc',\n",
       "       'Mahindra Centuro 110cc',\n",
       "       'Honda CB Hornet 160R Special Edition STD',\n",
       "       'Harley-Davidson Street Rod XG750A ABS',\n",
       "       'Hero Splendor Plus IBS i3S 100cc', 'Bajaj Discover 135cc',\n",
       "       'Bajaj Discover 125cc', 'TVS Apache RTR 160 4V DRUM ABS',\n",
       "       'Honda CB Unicorn 160 CBS', 'KTM Duke 125cc', 'Bajaj Boxer BM150',\n",
       "       'Hero Glamour 125cc', 'Bajaj Discover 100cc',\n",
       "       'Bajaj Avenger Street 180', 'TVS Star City Plus 110cc',\n",
       "       'Honda CB Trigger 150cc', 'Kawasaki Ninja 650 KRT Edition',\n",
       "       'Bajaj Platina 100cc ComforTec Alloy', 'Benelli TNT R 1130cc',\n",
       "       'Honda CB Unicorn Dazzler 150cc', 'Benelli TNT 600 GT',\n",
       "       'Hyosung GT250R', 'Yamaha YZF-R1 1000cc', 'Hero Xtreme 200R',\n",
       "       'Ducati Diavel 1200cc', 'Triumph Speed Triple 1050cc',\n",
       "       'Indian Scout Bobber 1130cc', 'Bajaj V15 150cc POWER UP',\n",
       "       'Jawa Standard 295CC', 'Yamaha SZR 150cc', 'TVS Star Sport 100cc',\n",
       "       'Hyosung Aquila 250 250cc', 'Kawasaki Z650', 'Hero CD Dawn 100cc',\n",
       "       'TVS Apache RTR 200 4V ABS', 'Hero Passion 100cc',\n",
       "       'Suzuki Intruder SP 150cc', 'Yamaha YZF-R3 320cc',\n",
       "       'TVS Apache RR310', 'Hero Passion Plus 100cc',\n",
       "       'Royal Enfield Classic 350cc-Redditch Edition Dual Disc',\n",
       "       'Hero CBZ 150cc', 'Yamaha FZS FI 150cc',\n",
       "       'Honda CB Unicorn 160 STD', 'Suzuki GS 150 R 150cc',\n",
       "       'Royal Enfield Machismo 500cc', 'Hero CBZ Xtreme 150cc',\n",
       "       'Yamaha SZ RR V 2.0 150cc', 'TVS Apache RTR 180cc ABS',\n",
       "       'Hero Honda Splendor 100cc', 'Honda CBR 150R Deluxe',\n",
       "       'Hero Ignitor 125cc', 'Bajaj Pulsar 200cc', 'Kawasaki Ninja 300cc',\n",
       "       'Kawasaki Ninja 300 ABS', 'Bajaj Pulsar 150cc Rear Disc',\n",
       "       'Hero Splendor NXG 100cc', 'Hero Achiever Disc 150cc',\n",
       "       'TVS Apache RTR 200 4V Carburetor Race Edition 2.0',\n",
       "       'Royal Enfield Thunderbird 350cc ABS',\n",
       "       'Harley-Davidson Street 750 ABS',\n",
       "       'Bajaj Pulsar 150cc Rear Disc ABS', 'KTM Duke 250cc ABS',\n",
       "       'Bajaj Pulsar 200 NS 200cc', 'Mahindra Mojo Tourer Edition 300cc',\n",
       "       'Hero Passion Pro i3S Alloy 100cc',\n",
       "       'Royal Enfield Thunderbird X 350cc ABS', 'Hero Xtreme 150cc',\n",
       "       'Bajaj Boxer CT100', 'Royal Enfield Bullet 350cc',\n",
       "       'Royal Enfield Standard 500cc', 'Hyosung Aquila Pro GV650',\n",
       "       'Royal Enfield Classic 500cc Dual Disc', 'Suzuki V-Strom 1000cc',\n",
       "       'KTM RC 125CC', 'Suzuki Gixxer SF 250cc ABS',\n",
       "       'Harley-Davidson 1200 Custom', 'Honda Dream Yuga 110cc CBS',\n",
       "       'Hero Splendor Pro 100cc', 'Suzuki Hayate 110cc',\n",
       "       'Yamaha Fazer FI V 2.0 150cc', 'TVS Victor 110cc Disc',\n",
       "       'Royal Enfield Classic Stealth Black 500cc',\n",
       "       'TVS Apache RTR 200 4V Dual Channel ABS BS6',\n",
       "       'Honda CB Shine 125cc CBS', 'Honda Livo Disc 110cc',\n",
       "       'Bajaj Discover 110cc', 'Suzuki Gixxer SF 150cc ABS',\n",
       "       'Hero CD 100SS', 'Hero Honda Splendor Plus 100cc',\n",
       "       'Bajaj Discover 100T', 'Hero HF Deluxe self Alloy 100cc',\n",
       "       'Benelli TNT 25 250cc', 'Yamaha MT-15 150cc',\n",
       "       'Yamaha FZS FI 150cc Rear Disc',\n",
       "       'TVS Apache RTR 200 4V Carburetor Pirelli Tyres',\n",
       "       'Triumph Tiger 800 XRX', 'Ducati XDiavel 1262CC S',\n",
       "       'TVS Suzuki Shogun 110cc', 'Bajaj Discover 125cc Disc',\n",
       "       'Triumph Thunderbird Storm 1700cc', 'Suzuki GSX-S750',\n",
       "       'TVS Flame 125cc', 'Triumph Tiger 800 XCA',\n",
       "       'Royal Enfield Machismo 350cc', 'TVS Victor 110cc',\n",
       "       'Honda CBR650R', 'Hero Xpulse 200cc FI',\n",
       "       'Hero HF Deluxe i3s 100cc',\n",
       "       'TVS Apache RTR 160cc Matt Red Rear Disc', 'Rajdoot GTX 175cc',\n",
       "       'Hero Xtreme 200R ABS', 'Honda CB Unicorn 160',\n",
       "       'Honda CB Hornet 160R Special Edition-CBS',\n",
       "       'TVS Apache RTR 200 4V Carburetor Pirelli Tyres Race Edition 2.0',\n",
       "       'TVS Apache RR310 Slipper Clutch', 'Mahindra Mojo UT300',\n",
       "       'Royal Enfield Bullet Twinspark Kickstart 350cc',\n",
       "       'Bajaj Pulsar  180cc', 'Honda CD 110 Dream',\n",
       "       'Royal Enfield Bullet Twinspark 500cc',\n",
       "       'Hero Xtreme Sports Rear Disc 150cc', 'Bajaj CT 100 ES Alloy',\n",
       "       'Bajaj  Pulsar 180cc', 'Bajaj Discover 150F', 'Hyosung GT 650N',\n",
       "       'Triumph Street Twin 900cc', 'Bajaj CT 100 Alloy',\n",
       "       'TVS Apache RTR 160 4V Drum',\n",
       "       'Yamaha SZ RR V 2.0 150cc Limited Edition',\n",
       "       'Yamaha YZF-R1M 1000cc', 'Hero Glamour i3s 125cc',\n",
       "       'Harley-Davidson Roadster XL 1200CX', 'Triumph Tiger 800 XR',\n",
       "       'KTM Duke 200cc ABS', 'Honda CBR1000RR Fireblade',\n",
       "       'Honda SP125 Disc BS6', 'Bajaj Platina 110 H Gear Disc',\n",
       "       'Hero Splendor Plus 100 cc', 'Honda CBR 250R Repsol',\n",
       "       'Triumph Bonneville T100 865cc', 'Yamaha RX135 135cc 4-Speed',\n",
       "       'Benelli 302R', 'Hero Splendor iSmart 100cc',\n",
       "       'Royal Enfield Classic 350cc Dual Disc', 'Honda CB 1000R',\n",
       "       'Honda CBR 600RR', 'Ducati Monster 797', 'Ducati Monster 1200',\n",
       "       'Suzuki GSX-R 1000cc', 'Ducati Monster 796 Corse Stripe',\n",
       "       'TVS Victor 110cc Disc SBT', 'Honda CB ShineSP 125cc CBS Disc',\n",
       "       'Kawasaki Z250', 'Royal Enfield Classic Squadron Blue 500cc',\n",
       "       'Suzuki Gixxer 150cc Dual Tone Rear Disc', 'TVS Apache RTR 200 4V',\n",
       "       'Honda Livo Disc 110cc CBS', 'TVS Apache RTR 160cc Rear Disc',\n",
       "       'Yamaha FZ S V 3.0 150cc', 'BMW G 310 GS',\n",
       "       'Royal Enfield Classic 350cc Signals Edition',\n",
       "       'Royal Enfield Bullet Electra Twinspark 350cc Double Disc',\n",
       "       'Honda CB Hornet 160R 160cc STD', 'Suzuki Intruder 150cc FI',\n",
       "       'Bajaj Platina 110 CBS', 'Hero Xtreme Sports 150cc',\n",
       "       'Bajaj Avenger Cruise 220 ABS',\n",
       "       'Honda CB Hornet 160R 160cc STD SP', 'Kawasaki Versys 650cc',\n",
       "       'Ducati Multistrada 1200 Enduro',\n",
       "       'Hero Passion Pro i3S Alloy 100cc IBS', 'Hero Xtreme Sports 149cc',\n",
       "       'TVS Apache RTR 160 4V Carburetor', 'Triumph Thruxton R 1200cc',\n",
       "       'Honda CD 110 Dream DX', 'BMW S 1000 XR Pro',\n",
       "       'Honda CB ShineSP 125cc Disc', 'Hero HF Deluxe Eco 100cc',\n",
       "       'Bajaj XCD 125', 'Honda CB ShineSP 125cc CBS',\n",
       "       'Bajaj CT110 ES Alloy', 'TVS Apache RTR 160 4V FI',\n",
       "       'Triumph Bonneville T100 900cc', 'Bajaj Avenger Street 160 ABS',\n",
       "       'TVS Apache RTR 160cc White Race Edition Rear Disc',\n",
       "       'Royal Enfield Himalayan 410cc Sleet Edition',\n",
       "       'Hero Splendor+ 100cc', 'Suzuki Gixxer SF 150cc Rear Disc',\n",
       "       'TVS Apache RTR 160 4V Carburetor With Rear Disc',\n",
       "       'Suzuki Heat 125cc', 'Honda CB Hornet 160R  ABS STD',\n",
       "       'Yamaha Fazer25 250cc', 'Bajaj Pulsar NS160 Rear Disc',\n",
       "       'Honda CB Hornet 160R', 'Bajaj Discover150 150cc',\n",
       "       'Bajaj Discover 125T', 'Bajaj Pulsar 150cc Classic',\n",
       "       'Yamaha Saluto 125cc', 'Hero Passion XPRO 110 cc',\n",
       "       'Yamaha FZS FI 150cc Special Edition', 'TVS Fiero 150cc',\n",
       "       'Mahindra Mojo XT300', 'Bajaj Platina Alloy ES 100cc',\n",
       "       'TVS Jive 110cc', 'Bajaj Boxer AT100', 'Bajaj Discover 150S Disc',\n",
       "       'TVS Radeon 110cc Drum SBT', 'Honda CD 110 Dream Self',\n",
       "       'Suzuki Gixxer 150cc ABS', 'Suzuki Hayate EP 110cc',\n",
       "       'Yamaha SZX 150cc', 'Hero CBZ Star 160cc',\n",
       "       'Hero Passion PRO  100 cc', 'Hero Passion Pro i3S Disc 100cc',\n",
       "       'Bajaj Avenger 200cc', 'Hero Honda Ambition 135cc',\n",
       "       'Bajaj Pulsar 135LS 135cc', 'Bajaj CT 100 KS Alloy',\n",
       "       'BMW S 1000 RR Pro', 'Kawasaki Versys 1000',\n",
       "       'Honda CB Unicorn 150 150cc', 'Kawasaki Z800',\n",
       "       'Hero Glamour PGM Fi 125cc', 'Royal Enfield Continental GT 650cc',\n",
       "       'LML Freedom DX 110cc', 'Harley-Davidson XG750 750cc',\n",
       "       'Yezdi Classic 250cc', 'Hero Passion Pro 100cc Drum Alloy',\n",
       "       'TVS Star 100cc', 'Bajaj XCD 135', 'Bajaj Avenger 150cc',\n",
       "       'Hero HF Deluxe 100 cc', 'Yamaha Fazer FI 150cc',\n",
       "       'TVS Apache RTR 200 4V FI Race Edition 2.0',\n",
       "       'Yamaha FZ V 3.0 150cc', 'Hero Super Splendor 125cc i3s',\n",
       "       'Yamaha SS 125 125cc',\n",
       "       'Suzuki Gixxer SF 150cc Special MOTOGP Edition',\n",
       "       'TVS Victor GX 110cc', 'TVS Apache RTR 200 4V Race Edition 2.0',\n",
       "       'Hero Passion Pro TR 100cc', 'Honda CBR 650 F',\n",
       "       'Yamaha FZ S V 3.0 150cc ABS Dark Knight BS VI',\n",
       "       'Hero HF Deluxe Self Spoke 100cc', 'TVS Sports plus ES 100cc',\n",
       "       'BMW F750 GS 850cc',\n",
       "       'Royal Enfield Bullet Electra Twinspark 350CC ABS',\n",
       "       'Hero Glamour Fi 125cc', 'Royal Enfield Himalayan 410cc Sleet ABS',\n",
       "       'Bajaj Pulsar NS 200cc', 'Yamaha YBR 110cc', 'Bajaj CT 100 Spoke',\n",
       "       'Yamaha Crux 110cc', 'Yamaha Saluto RX 110cc',\n",
       "       'MV Agusta Brutale 1090', 'Royal Enfield Himalayan 410cc Fi',\n",
       "       'MV Agusta F3 800cc', 'Kawasaki Ninja 400', 'Benelli TRK 502X',\n",
       "       'TVS Phoenix 125cc', 'Harley-Davidson Fat Bob 107 Ci',\n",
       "       'TVS Apache RTR 160cc White Race Edition',\n",
       "       'Ideal Jawa Yezdi CL-II 250 cc', 'Hero Splendor Pro Classic 100cc',\n",
       "       'Yamaha FZ Fi Version 2.0 150cc', 'Yamaha SZS 150cc',\n",
       "       'Triumph Daytona 675 ABS',\n",
       "       'Royal Enfield Classic Chrome 500cc ABS',\n",
       "       'Harley-Davidson Sportster 883', 'Suzuki Zeus 125cc',\n",
       "       'Yamaha Saluto 125cc-Special Edition', 'Bajaj Avenger 180cc',\n",
       "       'Bajaj Pulsar 150cc Neon', 'Kawasaki Z1000',\n",
       "       'Hero CBZ Xtreme 150 cc', 'Kawasaki Vulcan S 650cc',\n",
       "       'Yamaha RX-Z 135cc', 'Yamaha Libero G5 110cc',\n",
       "       'Bajaj Pulsar RS200  ABS-200cc', 'Bajaj Discover150S 150cc',\n",
       "       'Hero i Smart 125cc', 'Hero Splendor Plus  100 cc',\n",
       "       'Hero Splendor Plus 100 CC', 'Hero Karizma 223 cc',\n",
       "       'TVS MAX 4R 110cc', 'Mahindra Pantero 110cc',\n",
       "       'Hero Ambition 135cc', 'Honda CBR 250R Repsol ABS',\n",
       "       'Hero Hunk Rear Disc 150cc'], dtype=object)"
      ]
     },
     "execution_count": 12,
     "metadata": {},
     "output_type": "execute_result"
    }
   ],
   "source": [
    "df.bike_name.unique()"
   ]
  },
  {
   "cell_type": "code",
   "execution_count": 13,
   "id": "bcbcdb02",
   "metadata": {
    "scrolled": true
   },
   "outputs": [
    {
     "data": {
      "text/plain": [
       "Bajaj Pulsar 150cc                                   2776\n",
       "Bajaj Avenger Street 220                             2531\n",
       "Bajaj Avenger 220cc                                  2060\n",
       "Royal Enfield Classic 350cc                          1673\n",
       "Hero Passion Pro 100cc                               1432\n",
       "                                                     ... \n",
       "Indian Chief Classic 1800cc                             1\n",
       "TVS Apache RTR 160cc White Race Edition Rear Disc       1\n",
       "Triumph Bonneville T100 900cc                           1\n",
       "Bajaj CT110 ES Alloy                                    1\n",
       "Yamaha FZS FI 150cc Special Edition                     1\n",
       "Name: bike_name, Length: 471, dtype: int64"
      ]
     },
     "execution_count": 13,
     "metadata": {},
     "output_type": "execute_result"
    }
   ],
   "source": [
    "df['bike_name'].value_counts()"
   ]
  },
  {
   "cell_type": "code",
   "execution_count": 14,
   "id": "607869ea",
   "metadata": {
    "scrolled": true
   },
   "outputs": [
    {
     "data": {
      "text/plain": [
       "array(['TVS', 'Royal Enfield', 'Triumph', 'Yamaha', 'Honda', 'Hero',\n",
       "       'Bajaj', 'Suzuki', 'Benelli', 'KTM', 'Mahindra', 'Kawasaki',\n",
       "       'Ducati', 'Hyosung', 'Harley-Davidson', 'Jawa', 'BMW', 'Indian',\n",
       "       'Rajdoot', 'LML', 'Yezdi', 'MV', 'Ideal'], dtype=object)"
      ]
     },
     "execution_count": 14,
     "metadata": {},
     "output_type": "execute_result"
    }
   ],
   "source": [
    "df.brand.unique()"
   ]
  },
  {
   "cell_type": "code",
   "execution_count": 15,
   "id": "6c7eb314",
   "metadata": {
    "scrolled": true
   },
   "outputs": [
    {
     "data": {
      "text/plain": [
       "Bajaj              11213\n",
       "Hero                6368\n",
       "Royal Enfield       4178\n",
       "Yamaha              3916\n",
       "Honda               2108\n",
       "Suzuki              1464\n",
       "TVS                 1247\n",
       "KTM                 1077\n",
       "Harley-Davidson      737\n",
       "Kawasaki              79\n",
       "Hyosung               64\n",
       "Benelli               56\n",
       "Mahindra              55\n",
       "Triumph               26\n",
       "Ducati                22\n",
       "BMW                   16\n",
       "Jawa                  10\n",
       "MV                     4\n",
       "Indian                 3\n",
       "Ideal                  2\n",
       "Rajdoot                1\n",
       "LML                    1\n",
       "Yezdi                  1\n",
       "Name: brand, dtype: int64"
      ]
     },
     "execution_count": 15,
     "metadata": {},
     "output_type": "execute_result"
    }
   ],
   "source": [
    "df['brand'].value_counts()"
   ]
  },
  {
   "cell_type": "code",
   "execution_count": 16,
   "id": "fae35b05",
   "metadata": {},
   "outputs": [
    {
     "data": {
      "text/plain": [
       "<AxesSubplot:xlabel='count', ylabel='brand'>"
      ]
     },
     "execution_count": 16,
     "metadata": {},
     "output_type": "execute_result"
    },
    {
     "data": {
      "image/png": "[encoded data removed]",
      "text/plain": [
       "<Figure size 720x720 with 1 Axes>"
      ]
     },
     "metadata": {
      "needs_background": "light"
     },
     "output_type": "display_data"
    }
   ],
   "source": [
    "plt.figure(figsize=(10,10))\n",
    "sns.countplot(y=df.brand)"
   ]
  },
  {
   "cell_type": "markdown",
   "id": "c5a2e613",
   "metadata": {},
   "source": [
    "## Dropping the columns\n",
    "As we can see that the number of categories in the columns having bike_name,brand,city is very high hence it will be difficult to assign values to them therefore making it difficult in prediction in price so we need to drop these columns"
   ]
  },
  {
   "cell_type": "code",
   "execution_count": 17,
   "id": "08f3f42b",
   "metadata": {},
   "outputs": [],
   "source": [
    "df.drop([\"brand\",\"bike_name\",\"city\"],axis=1,inplace=True)"
   ]
  },
  {
   "cell_type": "code",
   "execution_count": 18,
   "id": "d903530e",
   "metadata": {},
   "outputs": [
    {
     "data": {
      "text/html": [
       "<div>\n",
       "<style scoped>\n",
       "    .dataframe tbody tr th:only-of-type {\n",
       "        vertical-align: middle;\n",
       "    }\n",
       "\n",
       "    .dataframe tbody tr th {\n",
       "        vertical-align: top;\n",
       "    }\n",
       "\n",
       "    .dataframe thead th {\n",
       "        text-align: right;\n",
       "    }\n",
       "</style>\n",
       "<table border=\"1\" class=\"dataframe\">\n",
       "  <thead>\n",
       "    <tr style=\"text-align: right;\">\n",
       "      <th></th>\n",
       "      <th>price</th>\n",
       "      <th>kms_driven</th>\n",
       "      <th>owner</th>\n",
       "      <th>age</th>\n",
       "      <th>power</th>\n",
       "    </tr>\n",
       "  </thead>\n",
       "  <tbody>\n",
       "    <tr>\n",
       "      <th>0</th>\n",
       "      <td>35000.0</td>\n",
       "      <td>17654.0</td>\n",
       "      <td>First Owner</td>\n",
       "      <td>3.0</td>\n",
       "      <td>110.0</td>\n",
       "    </tr>\n",
       "    <tr>\n",
       "      <th>1</th>\n",
       "      <td>119900.0</td>\n",
       "      <td>11000.0</td>\n",
       "      <td>First Owner</td>\n",
       "      <td>4.0</td>\n",
       "      <td>350.0</td>\n",
       "    </tr>\n",
       "    <tr>\n",
       "      <th>2</th>\n",
       "      <td>600000.0</td>\n",
       "      <td>110.0</td>\n",
       "      <td>First Owner</td>\n",
       "      <td>8.0</td>\n",
       "      <td>675.0</td>\n",
       "    </tr>\n",
       "    <tr>\n",
       "      <th>3</th>\n",
       "      <td>65000.0</td>\n",
       "      <td>16329.0</td>\n",
       "      <td>First Owner</td>\n",
       "      <td>4.0</td>\n",
       "      <td>180.0</td>\n",
       "    </tr>\n",
       "    <tr>\n",
       "      <th>4</th>\n",
       "      <td>80000.0</td>\n",
       "      <td>10000.0</td>\n",
       "      <td>First Owner</td>\n",
       "      <td>3.0</td>\n",
       "      <td>150.0</td>\n",
       "    </tr>\n",
       "  </tbody>\n",
       "</table>\n",
       "</div>"
      ],
      "text/plain": [
       "      price  kms_driven        owner  age  power\n",
       "0   35000.0     17654.0  First Owner  3.0  110.0\n",
       "1  119900.0     11000.0  First Owner  4.0  350.0\n",
       "2  600000.0       110.0  First Owner  8.0  675.0\n",
       "3   65000.0     16329.0  First Owner  4.0  180.0\n",
       "4   80000.0     10000.0  First Owner  3.0  150.0"
      ]
     },
     "execution_count": 18,
     "metadata": {},
     "output_type": "execute_result"
    }
   ],
   "source": [
    "df.head()"
   ]
  },
  {
   "cell_type": "markdown",
   "id": "014c6941",
   "metadata": {},
   "source": [
    "### Assigning dummy variables to owner column"
   ]
  },
  {
   "cell_type": "code",
   "execution_count": 19,
   "id": "10304431",
   "metadata": {},
   "outputs": [],
   "source": [
    "from sklearn.preprocessing import LabelEncoder\n",
    "label_encoder = LabelEncoder()\n",
    "df[\"owner\"] = label_encoder.fit_transform(df[\"owner\"])"
   ]
  },
  {
   "cell_type": "code",
   "execution_count": 20,
   "id": "3f0ceba6",
   "metadata": {},
   "outputs": [
    {
     "data": {
      "text/html": [
       "<div>\n",
       "<style scoped>\n",
       "    .dataframe tbody tr th:only-of-type {\n",
       "        vertical-align: middle;\n",
       "    }\n",
       "\n",
       "    .dataframe tbody tr th {\n",
       "        vertical-align: top;\n",
       "    }\n",
       "\n",
       "    .dataframe thead th {\n",
       "        text-align: right;\n",
       "    }\n",
       "</style>\n",
       "<table border=\"1\" class=\"dataframe\">\n",
       "  <thead>\n",
       "    <tr style=\"text-align: right;\">\n",
       "      <th></th>\n",
       "      <th>price</th>\n",
       "      <th>kms_driven</th>\n",
       "      <th>owner</th>\n",
       "      <th>age</th>\n",
       "      <th>power</th>\n",
       "    </tr>\n",
       "  </thead>\n",
       "  <tbody>\n",
       "    <tr>\n",
       "      <th>0</th>\n",
       "      <td>35000.0</td>\n",
       "      <td>17654.0</td>\n",
       "      <td>0</td>\n",
       "      <td>3.0</td>\n",
       "      <td>110.0</td>\n",
       "    </tr>\n",
       "    <tr>\n",
       "      <th>1</th>\n",
       "      <td>119900.0</td>\n",
       "      <td>11000.0</td>\n",
       "      <td>0</td>\n",
       "      <td>4.0</td>\n",
       "      <td>350.0</td>\n",
       "    </tr>\n",
       "    <tr>\n",
       "      <th>2</th>\n",
       "      <td>600000.0</td>\n",
       "      <td>110.0</td>\n",
       "      <td>0</td>\n",
       "      <td>8.0</td>\n",
       "      <td>675.0</td>\n",
       "    </tr>\n",
       "    <tr>\n",
       "      <th>3</th>\n",
       "      <td>65000.0</td>\n",
       "      <td>16329.0</td>\n",
       "      <td>0</td>\n",
       "      <td>4.0</td>\n",
       "      <td>180.0</td>\n",
       "    </tr>\n",
       "    <tr>\n",
       "      <th>4</th>\n",
       "      <td>80000.0</td>\n",
       "      <td>10000.0</td>\n",
       "      <td>0</td>\n",
       "      <td>3.0</td>\n",
       "      <td>150.0</td>\n",
       "    </tr>\n",
       "  </tbody>\n",
       "</table>\n",
       "</div>"
      ],
      "text/plain": [
       "      price  kms_driven  owner  age  power\n",
       "0   35000.0     17654.0      0  3.0  110.0\n",
       "1  119900.0     11000.0      0  4.0  350.0\n",
       "2  600000.0       110.0      0  8.0  675.0\n",
       "3   65000.0     16329.0      0  4.0  180.0\n",
       "4   80000.0     10000.0      0  3.0  150.0"
      ]
     },
     "execution_count": 20,
     "metadata": {},
     "output_type": "execute_result"
    }
   ],
   "source": [
    "df.head()"
   ]
  },
  {
   "cell_type": "markdown",
   "id": "489e2833",
   "metadata": {},
   "source": [
    "### visualising relationship between various components"
   ]
  },
  {
   "cell_type": "code",
   "execution_count": 21,
   "id": "d1cb6a70",
   "metadata": {},
   "outputs": [
    {
     "data": {
      "text/html": [
       "<div>\n",
       "<style scoped>\n",
       "    .dataframe tbody tr th:only-of-type {\n",
       "        vertical-align: middle;\n",
       "    }\n",
       "\n",
       "    .dataframe tbody tr th {\n",
       "        vertical-align: top;\n",
       "    }\n",
       "\n",
       "    .dataframe thead th {\n",
       "        text-align: right;\n",
       "    }\n",
       "</style>\n",
       "<table border=\"1\" class=\"dataframe\">\n",
       "  <thead>\n",
       "    <tr style=\"text-align: right;\">\n",
       "      <th></th>\n",
       "      <th>price</th>\n",
       "      <th>kms_driven</th>\n",
       "      <th>owner</th>\n",
       "      <th>age</th>\n",
       "      <th>power</th>\n",
       "    </tr>\n",
       "  </thead>\n",
       "  <tbody>\n",
       "    <tr>\n",
       "      <th>price</th>\n",
       "      <td>1.000000</td>\n",
       "      <td>-0.313955</td>\n",
       "      <td>-0.042885</td>\n",
       "      <td>-0.399133</td>\n",
       "      <td>0.862376</td>\n",
       "    </tr>\n",
       "    <tr>\n",
       "      <th>kms_driven</th>\n",
       "      <td>-0.313955</td>\n",
       "      <td>1.000000</td>\n",
       "      <td>-0.016986</td>\n",
       "      <td>0.484684</td>\n",
       "      <td>-0.264016</td>\n",
       "    </tr>\n",
       "    <tr>\n",
       "      <th>owner</th>\n",
       "      <td>-0.042885</td>\n",
       "      <td>-0.016986</td>\n",
       "      <td>1.000000</td>\n",
       "      <td>0.297564</td>\n",
       "      <td>0.043130</td>\n",
       "    </tr>\n",
       "    <tr>\n",
       "      <th>age</th>\n",
       "      <td>-0.399133</td>\n",
       "      <td>0.484684</td>\n",
       "      <td>0.297564</td>\n",
       "      <td>1.000000</td>\n",
       "      <td>-0.337035</td>\n",
       "    </tr>\n",
       "    <tr>\n",
       "      <th>power</th>\n",
       "      <td>0.862376</td>\n",
       "      <td>-0.264016</td>\n",
       "      <td>0.043130</td>\n",
       "      <td>-0.337035</td>\n",
       "      <td>1.000000</td>\n",
       "    </tr>\n",
       "  </tbody>\n",
       "</table>\n",
       "</div>"
      ],
      "text/plain": [
       "               price  kms_driven     owner       age     power\n",
       "price       1.000000   -0.313955 -0.042885 -0.399133  0.862376\n",
       "kms_driven -0.313955    1.000000 -0.016986  0.484684 -0.264016\n",
       "owner      -0.042885   -0.016986  1.000000  0.297564  0.043130\n",
       "age        -0.399133    0.484684  0.297564  1.000000 -0.337035\n",
       "power       0.862376   -0.264016  0.043130 -0.337035  1.000000"
      ]
     },
     "execution_count": 21,
     "metadata": {},
     "output_type": "execute_result"
    }
   ],
   "source": [
    "df.corr()"
   ]
  },
  {
   "cell_type": "code",
   "execution_count": 22,
   "id": "e2852edb",
   "metadata": {},
   "outputs": [
    {
     "data": {
      "text/plain": [
       "<AxesSubplot:>"
      ]
     },
     "execution_count": 22,
     "metadata": {},
     "output_type": "execute_result"
    },
    {
     "data": {
      "image/png": "[encoded data removed]",
      "text/plain": [
       "<Figure size 720x720 with 2 Axes>"
      ]
     },
     "metadata": {
      "needs_background": "light"
     },
     "output_type": "display_data"
    }
   ],
   "source": [
    "plt.figure(figsize=(10,10))\n",
    "sns.heatmap(df.corr(),annot=True,cmap=\"twilight_shifted_r\")"
   ]
  },
  {
   "cell_type": "code",
   "execution_count": 23,
   "id": "2d41f7fc",
   "metadata": {},
   "outputs": [
    {
     "data": {
      "text/plain": [
       "<AxesSubplot:xlabel='kms_driven', ylabel='price'>"
      ]
     },
     "execution_count": 23,
     "metadata": {},
     "output_type": "execute_result"
    },
    {
     "data": {
      "image/png": "[encoded data removed]",
      "text/plain": [
       "<Figure size 432x288 with 1 Axes>"
      ]
     },
     "metadata": {
      "needs_background": "light"
     },
     "output_type": "display_data"
    }
   ],
   "source": [
    "sns.regplot(x='kms_driven', y='price', data=df)"
   ]
  },
  {
   "cell_type": "code",
   "execution_count": 24,
   "id": "25b4b4e6",
   "metadata": {},
   "outputs": [
    {
     "data": {
      "text/plain": [
       "<AxesSubplot:xlabel='age', ylabel='price'>"
      ]
     },
     "execution_count": 24,
     "metadata": {},
     "output_type": "execute_result"
    },
    {
     "data": {
      "image/png": "[encoded data removed]",
      "text/plain": [
       "<Figure size 432x288 with 1 Axes>"
      ]
     },
     "metadata": {
      "needs_background": "light"
     },
     "output_type": "display_data"
    }
   ],
   "source": [
    "sns.regplot(x='age', y='price', data=df)"
   ]
  },
  {
   "cell_type": "code",
   "execution_count": 25,
   "id": "c452af21",
   "metadata": {},
   "outputs": [
    {
     "data": {
      "text/plain": [
       "<AxesSubplot:xlabel='power', ylabel='price'>"
      ]
     },
     "execution_count": 25,
     "metadata": {},
     "output_type": "execute_result"
    },
    {
     "data": {
      "image/png": "[encoded data removed]",
      "text/plain": [
       "<Figure size 432x288 with 1 Axes>"
      ]
     },
     "metadata": {
      "needs_background": "light"
     },
     "output_type": "display_data"
    }
   ],
   "source": [
    "sns.regplot(x='power', y='price', data=df)"
   ]
  },
  {
   "cell_type": "code",
   "execution_count": 26,
   "id": "585b0001",
   "metadata": {},
   "outputs": [
    {
     "data": {
      "text/plain": [
       "<AxesSubplot:xlabel='owner', ylabel='price'>"
      ]
     },
     "execution_count": 26,
     "metadata": {},
     "output_type": "execute_result"
    },
    {
     "data": {
      "image/png": "[encoded data removed]",
      "text/plain": [
       "<Figure size 432x288 with 1 Axes>"
      ]
     },
     "metadata": {
      "needs_background": "light"
     },
     "output_type": "display_data"
    }
   ],
   "source": [
    "sns.regplot(x='owner', y='price', data=df)"
   ]
  },
  {
   "cell_type": "markdown",
   "id": "fa88996a",
   "metadata": {},
   "source": [
    "### splitting our data into dependent and independent factors\n",
    "as we know that the price is dependent factor and rest are independent so we will split our data accordingly"
   ]
  },
  {
   "cell_type": "code",
   "execution_count": 27,
   "id": "bac65966",
   "metadata": {},
   "outputs": [],
   "source": [
    "X=df.iloc[:,1:]\n",
    "Y=df.iloc[:,0]"
   ]
  },
  {
   "cell_type": "markdown",
   "id": "f0686b54",
   "metadata": {},
   "source": [
    "### importing train test split"
   ]
  },
  {
   "cell_type": "code",
   "execution_count": 28,
   "id": "40dac749",
   "metadata": {},
   "outputs": [],
   "source": [
    "from sklearn.model_selection import train_test_split"
   ]
  },
  {
   "cell_type": "code",
   "execution_count": 29,
   "id": "3af24e79",
   "metadata": {},
   "outputs": [],
   "source": [
    " X_train, X_test, Y_train, Y_test = train_test_split( X, Y, test_size=0.33, random_state=42)"
   ]
  },
  {
   "cell_type": "code",
   "execution_count": 30,
   "id": "4f8e4c83",
   "metadata": {},
   "outputs": [
    {
     "data": {
      "text/html": [
       "<div>\n",
       "<style scoped>\n",
       "    .dataframe tbody tr th:only-of-type {\n",
       "        vertical-align: middle;\n",
       "    }\n",
       "\n",
       "    .dataframe tbody tr th {\n",
       "        vertical-align: top;\n",
       "    }\n",
       "\n",
       "    .dataframe thead th {\n",
       "        text-align: right;\n",
       "    }\n",
       "</style>\n",
       "<table border=\"1\" class=\"dataframe\">\n",
       "  <thead>\n",
       "    <tr style=\"text-align: right;\">\n",
       "      <th></th>\n",
       "      <th>kms_driven</th>\n",
       "      <th>owner</th>\n",
       "      <th>age</th>\n",
       "      <th>power</th>\n",
       "    </tr>\n",
       "  </thead>\n",
       "  <tbody>\n",
       "    <tr>\n",
       "      <th>18946</th>\n",
       "      <td>3430.0</td>\n",
       "      <td>0</td>\n",
       "      <td>4.0</td>\n",
       "      <td>750.0</td>\n",
       "    </tr>\n",
       "    <tr>\n",
       "      <th>14740</th>\n",
       "      <td>14500.0</td>\n",
       "      <td>0</td>\n",
       "      <td>4.0</td>\n",
       "      <td>250.0</td>\n",
       "    </tr>\n",
       "    <tr>\n",
       "      <th>27865</th>\n",
       "      <td>13858.0</td>\n",
       "      <td>2</td>\n",
       "      <td>11.0</td>\n",
       "      <td>350.0</td>\n",
       "    </tr>\n",
       "    <tr>\n",
       "      <th>3582</th>\n",
       "      <td>15091.0</td>\n",
       "      <td>2</td>\n",
       "      <td>7.0</td>\n",
       "      <td>220.0</td>\n",
       "    </tr>\n",
       "    <tr>\n",
       "      <th>14426</th>\n",
       "      <td>60857.0</td>\n",
       "      <td>0</td>\n",
       "      <td>13.0</td>\n",
       "      <td>150.0</td>\n",
       "    </tr>\n",
       "    <tr>\n",
       "      <th>...</th>\n",
       "      <td>...</td>\n",
       "      <td>...</td>\n",
       "      <td>...</td>\n",
       "      <td>...</td>\n",
       "    </tr>\n",
       "    <tr>\n",
       "      <th>29802</th>\n",
       "      <td>20000.0</td>\n",
       "      <td>0</td>\n",
       "      <td>4.0</td>\n",
       "      <td>350.0</td>\n",
       "    </tr>\n",
       "    <tr>\n",
       "      <th>5390</th>\n",
       "      <td>9800.0</td>\n",
       "      <td>0</td>\n",
       "      <td>6.0</td>\n",
       "      <td>150.0</td>\n",
       "    </tr>\n",
       "    <tr>\n",
       "      <th>860</th>\n",
       "      <td>17000.0</td>\n",
       "      <td>0</td>\n",
       "      <td>5.0</td>\n",
       "      <td>160.0</td>\n",
       "    </tr>\n",
       "    <tr>\n",
       "      <th>15795</th>\n",
       "      <td>20000.0</td>\n",
       "      <td>0</td>\n",
       "      <td>6.0</td>\n",
       "      <td>100.0</td>\n",
       "    </tr>\n",
       "    <tr>\n",
       "      <th>23654</th>\n",
       "      <td>20245.0</td>\n",
       "      <td>2</td>\n",
       "      <td>11.0</td>\n",
       "      <td>220.0</td>\n",
       "    </tr>\n",
       "  </tbody>\n",
       "</table>\n",
       "<p>21874 rows × 4 columns</p>\n",
       "</div>"
      ],
      "text/plain": [
       "       kms_driven  owner   age  power\n",
       "18946      3430.0      0   4.0  750.0\n",
       "14740     14500.0      0   4.0  250.0\n",
       "27865     13858.0      2  11.0  350.0\n",
       "3582      15091.0      2   7.0  220.0\n",
       "14426     60857.0      0  13.0  150.0\n",
       "...           ...    ...   ...    ...\n",
       "29802     20000.0      0   4.0  350.0\n",
       "5390       9800.0      0   6.0  150.0\n",
       "860       17000.0      0   5.0  160.0\n",
       "15795     20000.0      0   6.0  100.0\n",
       "23654     20245.0      2  11.0  220.0\n",
       "\n",
       "[21874 rows x 4 columns]"
      ]
     },
     "execution_count": 30,
     "metadata": {},
     "output_type": "execute_result"
    }
   ],
   "source": [
    "X_train"
   ]
  },
  {
   "cell_type": "code",
   "execution_count": 31,
   "id": "b49c92c0",
   "metadata": {},
   "outputs": [
    {
     "data": {
      "text/plain": [
       "18946    450000.0\n",
       "14740    123000.0\n",
       "27865     70000.0\n",
       "3582      45000.0\n",
       "14426     22000.0\n",
       "           ...   \n",
       "29802    105000.0\n",
       "5390      48000.0\n",
       "860       45000.0\n",
       "15795     23000.0\n",
       "23654     41000.0\n",
       "Name: price, Length: 21874, dtype: float64"
      ]
     },
     "execution_count": 31,
     "metadata": {},
     "output_type": "execute_result"
    }
   ],
   "source": [
    "Y_train"
   ]
  },
  {
   "cell_type": "code",
   "execution_count": 32,
   "id": "3be09444",
   "metadata": {},
   "outputs": [],
   "source": [
    "from sklearn.preprocessing import StandardScaler\n",
    "scaler=StandardScaler()"
   ]
  },
  {
   "cell_type": "code",
   "execution_count": 33,
   "id": "6c1feee9",
   "metadata": {},
   "outputs": [],
   "source": [
    "X_train=scaler.fit_transform(X_train)"
   ]
  },
  {
   "cell_type": "code",
   "execution_count": 34,
   "id": "95a4f78d",
   "metadata": {},
   "outputs": [],
   "source": [
    "X_test=scaler.transform(X_test)"
   ]
  },
  {
   "cell_type": "code",
   "execution_count": 35,
   "id": "66647d58",
   "metadata": {},
   "outputs": [],
   "source": [
    "from sklearn.linear_model import LinearRegression\n",
    "regression=LinearRegression()"
   ]
  },
  {
   "cell_type": "code",
   "execution_count": 36,
   "id": "60d9135e",
   "metadata": {},
   "outputs": [
    {
     "data": {
      "text/plain": [
       "LinearRegression()"
      ]
     },
     "execution_count": 36,
     "metadata": {},
     "output_type": "execute_result"
    }
   ],
   "source": [
    "regression.fit(X_train,Y_train)"
   ]
  },
  {
   "cell_type": "code",
   "execution_count": 37,
   "id": "d1e202af",
   "metadata": {},
   "outputs": [],
   "source": [
    "from sklearn.model_selection import cross_val_score"
   ]
  },
  {
   "cell_type": "code",
   "execution_count": 38,
   "id": "65697a65",
   "metadata": {},
   "outputs": [
    {
     "data": {
      "text/plain": [
       "array([-2.50106657e+09, -1.66423467e+09, -1.63913366e+09, -1.15806671e+09,\n",
       "       -1.35361456e+09, -2.78257337e+09, -2.11759262e+09, -2.34513415e+09,\n",
       "       -1.51213773e+09, -1.70835670e+09])"
      ]
     },
     "execution_count": 38,
     "metadata": {},
     "output_type": "execute_result"
    }
   ],
   "source": [
    "mse=cross_val_score(regression,X_train,Y_train,scoring=\"neg_mean_squared_error\",cv=10)\n",
    "mse"
   ]
  },
  {
   "cell_type": "code",
   "execution_count": 39,
   "id": "eeecbc6a",
   "metadata": {},
   "outputs": [
    {
     "data": {
      "text/plain": [
       "-1878191073.941138"
      ]
     },
     "execution_count": 39,
     "metadata": {},
     "output_type": "execute_result"
    }
   ],
   "source": [
    "np.mean(mse)"
   ]
  },
  {
   "cell_type": "code",
   "execution_count": 40,
   "id": "69ac715d",
   "metadata": {},
   "outputs": [],
   "source": [
    "reg_predict=regression.predict(X_test)"
   ]
  },
  {
   "cell_type": "code",
   "execution_count": 41,
   "id": "b19dc55c",
   "metadata": {},
   "outputs": [],
   "source": [
    "from sklearn.metrics import r2_score,accuracy_score"
   ]
  },
  {
   "cell_type": "code",
   "execution_count": 42,
   "id": "a2501d91",
   "metadata": {},
   "outputs": [],
   "source": [
    "score=r2_score(reg_predict,Y_test)"
   ]
  },
  {
   "cell_type": "code",
   "execution_count": 43,
   "id": "49556de5",
   "metadata": {},
   "outputs": [
    {
     "data": {
      "text/plain": [
       "0.6595024011275732"
      ]
     },
     "execution_count": 43,
     "metadata": {},
     "output_type": "execute_result"
    }
   ],
   "source": [
    "score"
   ]
  },
  {
   "cell_type": "markdown",
   "id": "09efeb48",
   "metadata": {},
   "source": [
    "## The model trained by linear regression has only 65% accuracy hence this cannot be accepted"
   ]
  },
  {
   "cell_type": "markdown",
   "id": "648e4375",
   "metadata": {},
   "source": [
    "Instead of using linear regression model we can use another algorithm for prediction of bike_prices namely K Nearest Neighbour regression Algorithm"
   ]
  },
  {
   "cell_type": "markdown",
   "id": "8f705e2c",
   "metadata": {},
   "source": [
    "### Importing KNN"
   ]
  },
  {
   "cell_type": "code",
   "execution_count": 44,
   "id": "9ad792cc",
   "metadata": {},
   "outputs": [],
   "source": [
    "from sklearn.neighbors import KNeighborsRegressor"
   ]
  },
  {
   "cell_type": "code",
   "execution_count": 45,
   "id": "9d9afcf9",
   "metadata": {},
   "outputs": [],
   "source": [
    "neigh = KNeighborsRegressor(n_neighbors=5)"
   ]
  },
  {
   "cell_type": "code",
   "execution_count": 46,
   "id": "1c1a7228",
   "metadata": {},
   "outputs": [
    {
     "data": {
      "text/plain": [
       "KNeighborsRegressor()"
      ]
     },
     "execution_count": 46,
     "metadata": {},
     "output_type": "execute_result"
    }
   ],
   "source": [
    "neigh.fit(X_train, Y_train)"
   ]
  },
  {
   "cell_type": "code",
   "execution_count": 47,
   "id": "136105e3",
   "metadata": {},
   "outputs": [],
   "source": [
    "KNN_predict = neigh.predict(X_test)"
   ]
  },
  {
   "cell_type": "code",
   "execution_count": 48,
   "id": "11e199b9",
   "metadata": {},
   "outputs": [
    {
     "data": {
      "text/plain": [
       "array([18000., 43000., 10000., ..., 95500., 30000., 70000.])"
      ]
     },
     "execution_count": 48,
     "metadata": {},
     "output_type": "execute_result"
    }
   ],
   "source": [
    "KNN_predict"
   ]
  },
  {
   "cell_type": "code",
   "execution_count": 49,
   "id": "85e5facb",
   "metadata": {},
   "outputs": [],
   "source": [
    "score=r2_score(KNN_predict,Y_test)"
   ]
  },
  {
   "cell_type": "code",
   "execution_count": 50,
   "id": "863cc413",
   "metadata": {},
   "outputs": [
    {
     "data": {
      "text/plain": [
       "0.9102884871462021"
      ]
     },
     "execution_count": 50,
     "metadata": {},
     "output_type": "execute_result"
    }
   ],
   "source": [
    "score"
   ]
  },
  {
   "cell_type": "markdown",
   "id": "886fa137",
   "metadata": {},
   "source": [
    "### Here after appplying K nearest neighbor algorithm our model accuraccy comes to be around 91% hence we can use this model for prediction of our bike prices"
   ]
  },
  {
   "cell_type": "code",
   "execution_count": 51,
   "id": "95438392",
   "metadata": {
    "scrolled": true
   },
   "outputs": [
    {
     "data": {
      "text/plain": [
       "<matplotlib.collections.PathCollection at 0x1b0b9eb56a0>"
      ]
     },
     "execution_count": 51,
     "metadata": {},
     "output_type": "execute_result"
    },
    {
     "data": {
      "image/png": "[encoded data removed]",
      "text/plain": [
       "<Figure size 432x288 with 1 Axes>"
      ]
     },
     "metadata": {
      "needs_background": "light"
     },
     "output_type": "display_data"
    }
   ],
   "source": [
    "##scatter plot between the actual and predicted values\n",
    "plt.scatter(Y_test, KNN_predict)"
   ]
  },
  {
   "cell_type": "code",
   "execution_count": 55,
   "id": "17bc8cb2",
   "metadata": {},
   "outputs": [],
   "source": [
    "from sklearn.model_selection import cross_val_score\n",
    "\n",
    "score2=cross_val_score(neigh,X_train,Y_train,cv=10)"
   ]
  },
  {
   "cell_type": "code",
   "execution_count": 60,
   "id": "0c097570",
   "metadata": {},
   "outputs": [
    {
     "data": {
      "text/plain": [
       "0.9323732717411367"
      ]
     },
     "execution_count": 60,
     "metadata": {},
     "output_type": "execute_result"
    }
   ],
   "source": [
    "score2.mean()"
   ]
  },
  {
   "cell_type": "markdown",
   "id": "1e33e558",
   "metadata": {},
   "source": [
    "average score after k fold cross validation comes out to be around 93%"
   ]
  },
  {
   "cell_type": "markdown",
   "id": "b1dccb02",
   "metadata": {},
   "source": [
    "## Saving our machine learning model using joblib"
   ]
  },
  {
   "cell_type": "code",
   "execution_count": 61,
   "id": "cd043ce5",
   "metadata": {},
   "outputs": [],
   "source": [
    "import joblib"
   ]
  },
  {
   "cell_type": "code",
   "execution_count": 62,
   "id": "5e1efdcf",
   "metadata": {},
   "outputs": [
    {
     "data": {
      "text/plain": [
       "['bike_price_prediction']"
      ]
     },
     "execution_count": 62,
     "metadata": {},
     "output_type": "execute_result"
    }
   ],
   "source": [
    "joblib.dump(neigh,\"bike_price_prediction\")"
   ]
  },
  {
   "cell_type": "code",
   "execution_count": null,
   "id": "e4285f82",
   "metadata": {},
   "outputs": [],
   "source": []
  }
 ],
 "metadata": {
  "kernelspec": {
   "display_name": "Python 3 (ipykernel)",
   "language": "python",
   "name": "python3"
  },
  "language_info": {
   "codemirror_mode": {
    "name": "ipython",
    "version": 3
   },
   "file_extension": ".py",
   "mimetype": "text/x-python",
   "name": "python",
   "nbconvert_exporter": "python",
   "pygments_lexer": "ipython3",
   "version": "3.9.12"
  }
 },
 "nbformat": 4,
 "nbformat_minor": 5
}
